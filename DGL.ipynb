{
  "nbformat": 4,
  "nbformat_minor": 0,
  "metadata": {
    "colab": {
      "name": "DGL.ipynb",
      "provenance": [],
      "collapsed_sections": [],
      "authorship_tag": "ABX9TyMmUfTnoDA+qfYUEvVxE0E+",
      "include_colab_link": true
    },
    "kernelspec": {
      "name": "python3",
      "display_name": "Python 3"
    },
    "language_info": {
      "name": "python"
    },
    "accelerator": "GPU"
  },
  "cells": [
    {
      "cell_type": "markdown",
      "metadata": {
        "id": "view-in-github",
        "colab_type": "text"
      },
      "source": [
        "<a href=\"https://colab.research.google.com/github/SANGDONKIM/pytorch_d2l/blob/main/DGL.ipynb\" target=\"_parent\"><img src=\"https://colab.research.google.com/assets/colab-badge.svg\" alt=\"Open In Colab\"/></a>"
      ]
    },
    {
      "cell_type": "code",
      "metadata": {
        "colab": {
          "base_uri": "https://localhost:8080/"
        },
        "id": "ZiN6E-LzUB4T",
        "outputId": "3454a018-fa03-4e91-b284-b79a39739e11"
      },
      "source": [
        "!pip install dgl "
      ],
      "execution_count": 1,
      "outputs": [
        {
          "output_type": "stream",
          "text": [
            "Collecting dgl\n",
            "\u001b[?25l  Downloading https://files.pythonhosted.org/packages/71/c4/ce24841375cf4393787dbf9a645e271c19a03d2d9a0e5770b08ba76bcfde/dgl-0.6.1-cp37-cp37m-manylinux1_x86_64.whl (4.4MB)\n",
            "\u001b[K     |████████████████████████████████| 4.4MB 10.5MB/s \n",
            "\u001b[?25hRequirement already satisfied: numpy>=1.14.0 in /usr/local/lib/python3.7/dist-packages (from dgl) (1.19.5)\n",
            "Requirement already satisfied: scipy>=1.1.0 in /usr/local/lib/python3.7/dist-packages (from dgl) (1.4.1)\n",
            "Requirement already satisfied: networkx>=2.1 in /usr/local/lib/python3.7/dist-packages (from dgl) (2.5.1)\n",
            "Requirement already satisfied: requests>=2.19.0 in /usr/local/lib/python3.7/dist-packages (from dgl) (2.23.0)\n",
            "Requirement already satisfied: decorator<5,>=4.3 in /usr/local/lib/python3.7/dist-packages (from networkx>=2.1->dgl) (4.4.2)\n",
            "Requirement already satisfied: chardet<4,>=3.0.2 in /usr/local/lib/python3.7/dist-packages (from requests>=2.19.0->dgl) (3.0.4)\n",
            "Requirement already satisfied: idna<3,>=2.5 in /usr/local/lib/python3.7/dist-packages (from requests>=2.19.0->dgl) (2.10)\n",
            "Requirement already satisfied: certifi>=2017.4.17 in /usr/local/lib/python3.7/dist-packages (from requests>=2.19.0->dgl) (2020.12.5)\n",
            "Requirement already satisfied: urllib3!=1.25.0,!=1.25.1,<1.26,>=1.21.1 in /usr/local/lib/python3.7/dist-packages (from requests>=2.19.0->dgl) (1.24.3)\n",
            "Installing collected packages: dgl\n",
            "Successfully installed dgl-0.6.1\n"
          ],
          "name": "stdout"
        }
      ]
    },
    {
      "cell_type": "code",
      "metadata": {
        "colab": {
          "base_uri": "https://localhost:8080/"
        },
        "id": "Iw8Ix3iFUN-e",
        "outputId": "64aa3d52-4cf7-457d-d96a-980d0b66e2eb"
      },
      "source": [
        "import dgl\n",
        "import torch as th"
      ],
      "execution_count": 2,
      "outputs": [
        {
          "output_type": "stream",
          "text": [
            "Using backend: pytorch\n"
          ],
          "name": "stderr"
        }
      ]
    },
    {
      "cell_type": "code",
      "metadata": {
        "colab": {
          "base_uri": "https://localhost:8080/"
        },
        "id": "qnWyDnymURGW",
        "outputId": "f4aa492c-5c84-494d-c86d-3fa83b2dc8ce"
      },
      "source": [
        "u, v = th.tensor([0, 0, 0, 1]), th.tensor([1, 2, 3, 3])\n",
        "g = dgl.graph((u, v))\n",
        "print(g)"
      ],
      "execution_count": 3,
      "outputs": [
        {
          "output_type": "stream",
          "text": [
            "Graph(num_nodes=4, num_edges=4,\n",
            "      ndata_schemes={}\n",
            "      edata_schemes={})\n"
          ],
          "name": "stdout"
        }
      ]
    },
    {
      "cell_type": "code",
      "metadata": {
        "colab": {
          "base_uri": "https://localhost:8080/"
        },
        "id": "fskDHuDhUYQX",
        "outputId": "90307fa7-535e-4532-83a5-4992334eb96c"
      },
      "source": [
        "print(g.nodes())"
      ],
      "execution_count": 4,
      "outputs": [
        {
          "output_type": "stream",
          "text": [
            "tensor([0, 1, 2, 3])\n"
          ],
          "name": "stdout"
        }
      ]
    },
    {
      "cell_type": "code",
      "metadata": {
        "colab": {
          "base_uri": "https://localhost:8080/"
        },
        "id": "FDTD2uqwUcOW",
        "outputId": "8a49099d-cac2-4d65-de01-e8aa472c0e4c"
      },
      "source": [
        "print(g.edges())"
      ],
      "execution_count": 5,
      "outputs": [
        {
          "output_type": "stream",
          "text": [
            "(tensor([0, 0, 0, 1]), tensor([1, 2, 3, 3]))\n"
          ],
          "name": "stdout"
        }
      ]
    },
    {
      "cell_type": "code",
      "metadata": {
        "colab": {
          "base_uri": "https://localhost:8080/"
        },
        "id": "MLJdVHnkUeXm",
        "outputId": "e601424a-10ff-4662-ed6c-fda2d1f6ab1a"
      },
      "source": [
        "print(g.edges(form='all')) # edge, node, edge id 출력 "
      ],
      "execution_count": 6,
      "outputs": [
        {
          "output_type": "stream",
          "text": [
            "(tensor([0, 0, 0, 1]), tensor([1, 2, 3, 3]), tensor([0, 1, 2, 3]))\n"
          ],
          "name": "stdout"
        }
      ]
    },
    {
      "cell_type": "code",
      "metadata": {
        "id": "Gked16EMUm81"
      },
      "source": [
        "g = dgl.graph((u, v), num_nodes=8)"
      ],
      "execution_count": 7,
      "outputs": []
    },
    {
      "cell_type": "code",
      "metadata": {
        "id": "UzeAUlBLUxHm"
      },
      "source": [
        "bg = dgl.to_bidirected(g)"
      ],
      "execution_count": 8,
      "outputs": []
    },
    {
      "cell_type": "code",
      "metadata": {
        "colab": {
          "base_uri": "https://localhost:8080/"
        },
        "id": "qHZKr9hMU2am",
        "outputId": "4a1c20f7-9786-44c1-935a-91b2380407ac"
      },
      "source": [
        "bg.edges()"
      ],
      "execution_count": 9,
      "outputs": [
        {
          "output_type": "execute_result",
          "data": {
            "text/plain": [
              "(tensor([0, 0, 0, 1, 1, 2, 3, 3]), tensor([1, 2, 3, 0, 3, 0, 0, 1]))"
            ]
          },
          "metadata": {
            "tags": []
          },
          "execution_count": 9
        }
      ]
    },
    {
      "cell_type": "code",
      "metadata": {
        "colab": {
          "base_uri": "https://localhost:8080/"
        },
        "id": "A7NryI61VM1X",
        "outputId": "8d23a37f-13fc-4460-ad78-a817f21fe050"
      },
      "source": [
        "edges = th.tensor([2, 5, 3]), th.tensor([3, 5, 0])\n",
        "print(edges)"
      ],
      "execution_count": 12,
      "outputs": [
        {
          "output_type": "stream",
          "text": [
            "(tensor([2, 5, 3]), tensor([3, 5, 0]))\n"
          ],
          "name": "stdout"
        }
      ]
    },
    {
      "cell_type": "markdown",
      "metadata": {
        "id": "V9493vu5Wk_W"
      },
      "source": [
        "# DGL 데이터 생성 시 유의사항 \n",
        "\n",
        "- node, edge 의 데이터 타입이 같아야함 \n",
        "- 64bit에서는 $2^{63} - 1$까지의 node, edge 를 다룰 수 있음 \n",
        "- 64bit에서는 $2^{31} - 1$까지의 node, edge 를 다룰 수 있음\n",
        "- 생성하려는 데이터의 크기를 대략적으로 파악하고, 데이터 크기에 맞는 타입을 지정해주어야 속도 측면에서 효과적임 \n"
      ]
    },
    {
      "cell_type": "code",
      "metadata": {
        "colab": {
          "base_uri": "https://localhost:8080/"
        },
        "id": "QQHNendSVvMW",
        "outputId": "84ba4040-155a-4902-c112-50f349675616"
      },
      "source": [
        "g64 = dgl.graph(edges) # DGL 은 int64가 default임 \n",
        "print(g64)"
      ],
      "execution_count": 14,
      "outputs": [
        {
          "output_type": "stream",
          "text": [
            "Graph(num_nodes=6, num_edges=3,\n",
            "      ndata_schemes={}\n",
            "      edata_schemes={})\n"
          ],
          "name": "stdout"
        }
      ]
    },
    {
      "cell_type": "code",
      "metadata": {
        "colab": {
          "base_uri": "https://localhost:8080/"
        },
        "id": "9Ry4R18-V7Oe",
        "outputId": "22b05ead-cf8a-4148-f94f-81a7b67a681d"
      },
      "source": [
        "g32 = dgl.graph(edges, idtype=th.int32)\n",
        "g32.idtype"
      ],
      "execution_count": 16,
      "outputs": [
        {
          "output_type": "execute_result",
          "data": {
            "text/plain": [
              "torch.int32"
            ]
          },
          "metadata": {
            "tags": []
          },
          "execution_count": 16
        }
      ]
    },
    {
      "cell_type": "code",
      "metadata": {
        "colab": {
          "base_uri": "https://localhost:8080/"
        },
        "id": "mi9aQVEfVqzW",
        "outputId": "8e9bb114-1940-4695-c52a-003b50816448"
      },
      "source": [
        "g64_2 = g32.long()\n",
        "g64_2.idtype"
      ],
      "execution_count": 18,
      "outputs": [
        {
          "output_type": "execute_result",
          "data": {
            "text/plain": [
              "torch.int64"
            ]
          },
          "metadata": {
            "tags": []
          },
          "execution_count": 18
        }
      ]
    },
    {
      "cell_type": "code",
      "metadata": {
        "colab": {
          "base_uri": "https://localhost:8080/"
        },
        "id": "lkKeB3UVWbjO",
        "outputId": "17edae3c-6792-422e-d9b7-122a44f7cd42"
      },
      "source": [
        "g32_2 = g64.int()\n",
        "g32_2.idtype"
      ],
      "execution_count": 20,
      "outputs": [
        {
          "output_type": "execute_result",
          "data": {
            "text/plain": [
              "torch.int32"
            ]
          },
          "metadata": {
            "tags": []
          },
          "execution_count": 20
        }
      ]
    },
    {
      "cell_type": "markdown",
      "metadata": {
        "id": "6FaoWOpoXlrf"
      },
      "source": [
        "# Node and Edge Features "
      ]
    },
    {
      "cell_type": "code",
      "metadata": {
        "colab": {
          "base_uri": "https://localhost:8080/"
        },
        "id": "yE9R7HepXp44",
        "outputId": "0c7d7172-a9a0-4ad6-983d-fb2e2b957f91"
      },
      "source": [
        "g = dgl.graph(([0, 0, 1, 5], [1, 2, 2, 0]))\n",
        "g"
      ],
      "execution_count": 38,
      "outputs": [
        {
          "output_type": "execute_result",
          "data": {
            "text/plain": [
              "Graph(num_nodes=6, num_edges=4,\n",
              "      ndata_schemes={}\n",
              "      edata_schemes={})"
            ]
          },
          "metadata": {
            "tags": []
          },
          "execution_count": 38
        }
      ]
    },
    {
      "cell_type": "code",
      "metadata": {
        "colab": {
          "base_uri": "https://localhost:8080/"
        },
        "id": "7PQKhUDMX1r-",
        "outputId": "8c231dd6-667d-4065-87ec-aab7fe8a3461"
      },
      "source": [
        "\n",
        "g.ndata['x'] = th.ones(g.num_nodes(), 3) # g.num_nodes() = 6, (6,3) 1 matrix 생성\n",
        "g.edata['x'] = th.ones(g.num_edges(), dtype = th.int32)\n",
        "g\n"
      ],
      "execution_count": 39,
      "outputs": [
        {
          "output_type": "execute_result",
          "data": {
            "text/plain": [
              "Graph(num_nodes=6, num_edges=4,\n",
              "      ndata_schemes={'x': Scheme(shape=(3,), dtype=torch.float32)}\n",
              "      edata_schemes={'x': Scheme(shape=(), dtype=torch.int32)})"
            ]
          },
          "metadata": {
            "tags": []
          },
          "execution_count": 39
        }
      ]
    },
    {
      "cell_type": "code",
      "metadata": {
        "colab": {
          "base_uri": "https://localhost:8080/"
        },
        "id": "eUUjzBT9YxQe",
        "outputId": "04d24292-fccf-4be1-cdaa-3d1060e40a16"
      },
      "source": [
        "g.ndata['y'] = th.randn(g.num_nodes(), 5)\n",
        "g"
      ],
      "execution_count": 40,
      "outputs": [
        {
          "output_type": "execute_result",
          "data": {
            "text/plain": [
              "Graph(num_nodes=6, num_edges=4,\n",
              "      ndata_schemes={'x': Scheme(shape=(3,), dtype=torch.float32), 'y': Scheme(shape=(5,), dtype=torch.float32)}\n",
              "      edata_schemes={'x': Scheme(shape=(), dtype=torch.int32)})"
            ]
          },
          "metadata": {
            "tags": []
          },
          "execution_count": 40
        }
      ]
    },
    {
      "cell_type": "code",
      "metadata": {
        "colab": {
          "base_uri": "https://localhost:8080/"
        },
        "id": "cl3PppMCZE9n",
        "outputId": "1397c1bd-a799-42d7-8341-63e576a9f00a"
      },
      "source": [
        "g.ndata['x'][1]\n",
        "g.edata['x'][th.tensor([0, 3])]"
      ],
      "execution_count": 41,
      "outputs": [
        {
          "output_type": "execute_result",
          "data": {
            "text/plain": [
              "tensor([1, 1], dtype=torch.int32)"
            ]
          },
          "metadata": {
            "tags": []
          },
          "execution_count": 41
        }
      ]
    },
    {
      "cell_type": "code",
      "metadata": {
        "colab": {
          "base_uri": "https://localhost:8080/"
        },
        "id": "7AgXa9KnaY4O",
        "outputId": "b0424934-cb98-4be0-e18f-e8c864177a02"
      },
      "source": [
        "edges = th.tensor([0, 0, 0, 1]), th.tensor([1, 2, 3, 3])\n",
        "weights = th.tensor([0.1, 0.6, 0.9, 0.7])\n",
        "g = dgl.graph(edges)\n",
        "g.edata['w'] = weights # edge에 w 이름 부여하고, 가중치 부여 \n",
        "g"
      ],
      "execution_count": 47,
      "outputs": [
        {
          "output_type": "execute_result",
          "data": {
            "text/plain": [
              "Graph(num_nodes=4, num_edges=4,\n",
              "      ndata_schemes={}\n",
              "      edata_schemes={'w': Scheme(shape=(), dtype=torch.float32)})"
            ]
          },
          "metadata": {
            "tags": []
          },
          "execution_count": 47
        }
      ]
    },
    {
      "cell_type": "markdown",
      "metadata": {
        "id": "rVwReAWkcG1t"
      },
      "source": [
        "# Creating graphs from external libraries \n",
        "- 파이썬의 다른 graph 관련 패키지에서 생성한 graph를 dgl에 맞게 바꿀 수 있음 \n",
        "- dgl은 항상 directed 그래프를 구축하기 때문에 주의 필요 "
      ]
    },
    {
      "cell_type": "code",
      "metadata": {
        "id": "FkxTmPVtbz-I"
      },
      "source": [
        "import scipy.sparse as sp\n",
        "import networkx as nx"
      ],
      "execution_count": 7,
      "outputs": []
    },
    {
      "cell_type": "code",
      "metadata": {
        "colab": {
          "base_uri": "https://localhost:8080/"
        },
        "id": "VSZF-HwmcP2o",
        "outputId": "07808075-abcd-4230-82cc-1290353364c9"
      },
      "source": [
        "spmat = sp.rand(100, 100, density=0.05) # 5% nonzero entries\n",
        "dgl.from_scipy(spmat)  "
      ],
      "execution_count": 49,
      "outputs": [
        {
          "output_type": "execute_result",
          "data": {
            "text/plain": [
              "Graph(num_nodes=100, num_edges=500,\n",
              "      ndata_schemes={}\n",
              "      edata_schemes={})"
            ]
          },
          "metadata": {
            "tags": []
          },
          "execution_count": 49
        }
      ]
    },
    {
      "cell_type": "code",
      "metadata": {
        "colab": {
          "base_uri": "https://localhost:8080/"
        },
        "id": "-CPayjXRcU4H",
        "outputId": "b1c631de-3c0e-41d0-eb76-cd5097812122"
      },
      "source": [
        "nx_g = nx.path_graph(5) # a chain 0-1-2-3-4\n",
        "dgl.from_networkx(nx_g) # from networkx"
      ],
      "execution_count": 50,
      "outputs": [
        {
          "output_type": "execute_result",
          "data": {
            "text/plain": [
              "Graph(num_nodes=5, num_edges=8,\n",
              "      ndata_schemes={}\n",
              "      edata_schemes={})"
            ]
          },
          "metadata": {
            "tags": []
          },
          "execution_count": 50
        }
      ]
    },
    {
      "cell_type": "code",
      "metadata": {
        "colab": {
          "base_uri": "https://localhost:8080/"
        },
        "id": "fo9OiqcydBwB",
        "outputId": "2de116be-8942-4d3b-a8c5-de45114d5322"
      },
      "source": [
        "nxg = nx.DiGraph([(2, 1), (1, 2), (2, 3), (0, 0)])\n",
        "dgl.from_networkx(nxg)"
      ],
      "execution_count": 51,
      "outputs": [
        {
          "output_type": "execute_result",
          "data": {
            "text/plain": [
              "Graph(num_nodes=4, num_edges=4,\n",
              "      ndata_schemes={}\n",
              "      edata_schemes={})"
            ]
          },
          "metadata": {
            "tags": []
          },
          "execution_count": 51
        }
      ]
    },
    {
      "cell_type": "markdown",
      "metadata": {
        "id": "i_L_n0SNwizv"
      },
      "source": [
        "# Heterogeneous Graphs \n",
        "- node의 종류가 다른 그래프를 의미\n",
        "- node의 종류가 하나일 때는 homogeneous graph라고 함 "
      ]
    },
    {
      "cell_type": "code",
      "metadata": {
        "id": "3kGoR7_MwOK8"
      },
      "source": [
        "graph_data = {\n",
        "    ('drug', 'interacts', 'drug'): (th.tensor([0, 1]), th.tensor([1, 2])), \n",
        "    ('drug', 'interacts', 'gene'): (th.tensor([0, 1]), th.tensor([2, 3])), \n",
        "    ('drug', 'treats', 'disease'): (th.tensor([1]), th.tensor([2])) \n",
        "}"
      ],
      "execution_count": 52,
      "outputs": []
    },
    {
      "cell_type": "code",
      "metadata": {
        "colab": {
          "base_uri": "https://localhost:8080/"
        },
        "id": "afrzWUyoxtei",
        "outputId": "106a29ec-0d35-4fb5-a988-248e1ed345cc"
      },
      "source": [
        "g = dgl.heterograph(graph_data)\n",
        "g.ntypes\n",
        "g.etypes\n",
        "g.canonical_etypes\n",
        "g.num_edges"
      ],
      "execution_count": 72,
      "outputs": [
        {
          "output_type": "execute_result",
          "data": {
            "text/plain": [
              "<bound method DGLHeteroGraph.num_edges of Graph(num_nodes={'disease': 3, 'drug': 3, 'gene': 4},\n",
              "      num_edges={('drug', 'interacts', 'drug'): 2, ('drug', 'interacts', 'gene'): 2, ('drug', 'treats', 'disease'): 1},\n",
              "      metagraph=[('drug', 'drug', 'interacts'), ('drug', 'gene', 'interacts'), ('drug', 'disease', 'treats')])>"
            ]
          },
          "metadata": {
            "tags": []
          },
          "execution_count": 72
        }
      ]
    },
    {
      "cell_type": "markdown",
      "metadata": {
        "id": "FOuDDX3fza4R"
      },
      "source": [
        "## Homogeneous graph \n"
      ]
    },
    {
      "cell_type": "code",
      "metadata": {
        "colab": {
          "base_uri": "https://localhost:8080/"
        },
        "id": "SsY9fDucx-yj",
        "outputId": "598ae689-2523-4289-f1fb-c63c3a4890a1"
      },
      "source": [
        "u\n",
        "v\n",
        "dgl.heterograph({('node_type', 'edge_type', 'node_type'): (u, v)})"
      ],
      "execution_count": 59,
      "outputs": [
        {
          "output_type": "execute_result",
          "data": {
            "text/plain": [
              "Graph(num_nodes=4, num_edges=4,\n",
              "      ndata_schemes={}\n",
              "      edata_schemes={})"
            ]
          },
          "metadata": {
            "tags": []
          },
          "execution_count": 59
        }
      ]
    },
    {
      "cell_type": "code",
      "metadata": {
        "colab": {
          "base_uri": "https://localhost:8080/"
        },
        "id": "fgh0pKkrz6UL",
        "outputId": "d1d4c22e-f22b-46cb-b591-35944eec4dfa"
      },
      "source": [
        "dgl.heterograph({('source_type', 'edge_type', 'destination_type'): (u, v)})"
      ],
      "execution_count": 60,
      "outputs": [
        {
          "output_type": "execute_result",
          "data": {
            "text/plain": [
              "Graph(num_nodes={'destination_type': 4, 'source_type': 2},\n",
              "      num_edges={('source_type', 'edge_type', 'destination_type'): 4},\n",
              "      metagraph=[('source_type', 'destination_type', 'edge_type')])"
            ]
          },
          "metadata": {
            "tags": []
          },
          "execution_count": 60
        }
      ]
    },
    {
      "cell_type": "code",
      "metadata": {
        "colab": {
          "base_uri": "https://localhost:8080/"
        },
        "id": "g0glAUj_0TzD",
        "outputId": "a488d198-0f9a-4867-a42f-88a3316150e7"
      },
      "source": [
        "g\n",
        "g.metagraph().edges()"
      ],
      "execution_count": 63,
      "outputs": [
        {
          "output_type": "execute_result",
          "data": {
            "text/plain": [
              "OutMultiEdgeDataView([('drug', 'drug'), ('drug', 'gene'), ('drug', 'disease')])"
            ]
          },
          "metadata": {
            "tags": []
          },
          "execution_count": 63
        }
      ]
    },
    {
      "cell_type": "code",
      "metadata": {
        "colab": {
          "base_uri": "https://localhost:8080/"
        },
        "id": "ebTWD8LF02XD",
        "outputId": "90ba4bd9-f0d7-4e7a-b8bc-6d813b459f1a"
      },
      "source": [
        "# Get the number of all nodes in the graph\n",
        "g.num_nodes()\n",
        "\n",
        "# Get the number of drug nodes\n",
        "g.num_nodes('drug')\n",
        "\n",
        "# Nodes of different types have separate IDs,\n",
        "# hence not well-defined without a type specified\n",
        "g.nodes('drug')\n"
      ],
      "execution_count": 67,
      "outputs": [
        {
          "output_type": "execute_result",
          "data": {
            "text/plain": [
              "tensor([0, 1, 2])"
            ]
          },
          "metadata": {
            "tags": []
          },
          "execution_count": 67
        }
      ]
    },
    {
      "cell_type": "code",
      "metadata": {
        "colab": {
          "base_uri": "https://localhost:8080/"
        },
        "id": "mRgg3zue1h2U",
        "outputId": "588d3125-d935-44a6-a32d-c34f1055bd2f"
      },
      "source": [
        "g.nodes['drug'].data['hv'] = th.ones(3, 1)\n",
        "g.nodes['drug'].data['hv']\n",
        "\n",
        "# Set/get feature 'he' for edge of type 'treats'\n",
        "g.edges['treats'].data['he'] = th.zeros(1, 1)\n",
        "g.edges['treats'].data['he']\n"
      ],
      "execution_count": 71,
      "outputs": [
        {
          "output_type": "execute_result",
          "data": {
            "text/plain": [
              "tensor([[0.]])"
            ]
          },
          "metadata": {
            "tags": []
          },
          "execution_count": 71
        }
      ]
    },
    {
      "cell_type": "code",
      "metadata": {
        "id": "s_sWGtUT2J67"
      },
      "source": [
        "g = dgl.heterograph({\n",
        "   ('drug', 'interacts', 'drug'): (th.tensor([0, 1]), th.tensor([1, 2])),\n",
        "   ('drug', 'is similar', 'drug'): (th.tensor([0, 1]), th.tensor([2, 3]))\n",
        "})\n",
        "g.nodes()\n",
        "\n",
        "# To set/get feature with a single type, no need to use the new syntax\n",
        "g.ndata['hv'] = th.ones(4, 1)"
      ],
      "execution_count": null,
      "outputs": []
    },
    {
      "cell_type": "markdown",
      "metadata": {
        "id": "m6XNbg9J6frI"
      },
      "source": [
        "# Using DGLGraph on a GPU \n"
      ]
    },
    {
      "cell_type": "code",
      "metadata": {
        "colab": {
          "base_uri": "https://localhost:8080/"
        },
        "id": "80O458Pa6jjl",
        "outputId": "2af33796-a294-4371-a5f1-326e913399e1"
      },
      "source": [
        "u, v = th.tensor([0, 1, 2]), th.tensor([2, 3, 4])\n",
        "g = dgl.graph((u, v))\n",
        "g\n"
      ],
      "execution_count": 9,
      "outputs": [
        {
          "output_type": "execute_result",
          "data": {
            "text/plain": [
              "Graph(num_nodes=5, num_edges=3,\n",
              "      ndata_schemes={}\n",
              "      edata_schemes={})"
            ]
          },
          "metadata": {
            "tags": []
          },
          "execution_count": 9
        }
      ]
    },
    {
      "cell_type": "code",
      "metadata": {
        "colab": {
          "base_uri": "https://localhost:8080/",
          "height": 319
        },
        "id": "0TIsQlh669mk",
        "outputId": "66eb9c5a-a93a-4af9-cd11-3e819512d003"
      },
      "source": [
        "import networkx as nx\n",
        "nx_G = g.to_networkx().to_undirected()\n",
        "nx.draw(nx_G, with_labels = True)"
      ],
      "execution_count": 10,
      "outputs": [
        {
          "output_type": "display_data",
          "data": {
            "image/png": "[encoded data removed]",
            "text/plain": [
              "<Figure size 432x288 with 1 Axes>"
            ]
          },
          "metadata": {
            "tags": []
          }
        }
      ]
    },
    {
      "cell_type": "code",
      "metadata": {
        "id": "n7k-KaO172UE"
      },
      "source": [
        "g.ndata['x'] = th.randn(5, 3)"
      ],
      "execution_count": 11,
      "outputs": []
    },
    {
      "cell_type": "code",
      "metadata": {
        "colab": {
          "base_uri": "https://localhost:8080/"
        },
        "id": "eWCKGZjX8IHF",
        "outputId": "ec19154a-1325-428e-85e2-8ec150d57715"
      },
      "source": [
        "g.device # CPU "
      ],
      "execution_count": 12,
      "outputs": [
        {
          "output_type": "execute_result",
          "data": {
            "text/plain": [
              "device(type='cpu')"
            ]
          },
          "metadata": {
            "tags": []
          },
          "execution_count": 12
        }
      ]
    },
    {
      "cell_type": "code",
      "metadata": {
        "colab": {
          "base_uri": "https://localhost:8080/"
        },
        "id": "y1B7QMuD8nf9",
        "outputId": "34e58ff1-5f1d-4d20-9981-63ed0cf9033d"
      },
      "source": [
        "import torch\n",
        "print(\"Torch version:{}\".format(torch.__version__))\n",
        "print(\"cuda version: {}\".format(torch.version.cuda))\n",
        "print(\"cudnn version:{}\".format(torch.backends.cudnn.version()))\n",
        "# cuda_g = g.to('cuda:0')  # accepts any device objects from backend framework\n",
        "# cuda_g.device"
      ],
      "execution_count": 14,
      "outputs": [
        {
          "output_type": "stream",
          "text": [
            "Torch version:1.8.1+cu101\n",
            "cuda version: 10.1\n",
            "cudnn version:7603\n"
          ],
          "name": "stdout"
        }
      ]
    },
    {
      "cell_type": "markdown",
      "metadata": {
        "id": "2ATJFMppJCjO"
      },
      "source": [
        "# DGL at a Glance "
      ]
    },
    {
      "cell_type": "code",
      "metadata": {
        "id": "raBQjhk8N2OI"
      },
      "source": [
        "import dgl\n",
        "import numpy as np"
      ],
      "execution_count": 11,
      "outputs": []
    },
    {
      "cell_type": "code",
      "metadata": {
        "id": "bowRvgwJPWSw"
      },
      "source": [
        "def build_karate_club_graph():\n",
        "    # All 78 edges are stored in two numpy arrays. One for source endpoints\n",
        "    # while the other for destination endpoints.\n",
        "    src = np.array([1, 2, 2, 3, 3, 3, 4, 5, 6, 6, 6, 7, 7, 7, 7, 8, 8, 9, 10, 10,\n",
        "        10, 11, 12, 12, 13, 13, 13, 13, 16, 16, 17, 17, 19, 19, 21, 21,\n",
        "        25, 25, 27, 27, 27, 28, 29, 29, 30, 30, 31, 31, 31, 31, 32, 32,\n",
        "        32, 32, 32, 32, 32, 32, 32, 32, 32, 33, 33, 33, 33, 33, 33, 33,\n",
        "        33, 33, 33, 33, 33, 33, 33, 33, 33, 33]) # (78,)\n",
        "    dst = np.array([0, 0, 1, 0, 1, 2, 0, 0, 0, 4, 5, 0, 1, 2, 3, 0, 2, 2, 0, 4,\n",
        "        5, 0, 0, 3, 0, 1, 2, 3, 5, 6, 0, 1, 0, 1, 0, 1, 23, 24, 2, 23,\n",
        "        24, 2, 23, 26, 1, 8, 0, 24, 25, 28, 2, 8, 14, 15, 18, 20, 22, 23,\n",
        "        29, 30, 31, 8, 9, 13, 14, 15, 18, 19, 20, 22, 23, 26, 27, 28, 29, 30,\n",
        "        31, 32])\n",
        "    # Edges are directional in DGL; Make them bi-directional.\n",
        "    u = np.concatenate([src, dst]) # (156, )\n",
        "    v = np.concatenate([dst, src])\n",
        "    # Construct a DGLGraph\n",
        "    return dgl.DGLGraph((u, v))"
      ],
      "execution_count": 18,
      "outputs": []
    },
    {
      "cell_type": "code",
      "metadata": {
        "colab": {
          "base_uri": "https://localhost:8080/"
        },
        "id": "h3kX5QZyP7q3",
        "outputId": "84ca6b79-da80-4cca-beb9-aaaf7d58d019"
      },
      "source": [
        "G = build_karate_club_graph()\n",
        "print('We have %d nodes.' % G.number_of_nodes())\n",
        "print('We have %d edges.' % G.number_of_edges())"
      ],
      "execution_count": 19,
      "outputs": [
        {
          "output_type": "stream",
          "text": [
            "We have 34 nodes.\n",
            "We have 156 edges.\n"
          ],
          "name": "stdout"
        },
        {
          "output_type": "stream",
          "text": [
            "/usr/local/lib/python3.7/dist-packages/dgl/base.py:45: DGLWarning: Recommend creating graphs by `dgl.graph(data)` instead of `dgl.DGLGraph(data)`.\n",
            "  return warnings.warn(message, category=category, stacklevel=1)\n"
          ],
          "name": "stderr"
        }
      ]
    },
    {
      "cell_type": "code",
      "metadata": {
        "id": "zv6eYph9QFfg"
      },
      "source": [
        "import networkx as nx \n",
        "nx_G = G.to_networkx().to_undirected()\n",
        "# Kamada-Kawaii layout usually looks pretty for arbitrary graphs\n",
        "pos = nx.kamada_kawai_layout(nx_G) # layout은 그래프 생성에 크게 중요하지 않은 것 같음. 그냥 kamada를 많이 씀 \n"
      ],
      "execution_count": 30,
      "outputs": []
    },
    {
      "cell_type": "code",
      "metadata": {
        "colab": {
          "base_uri": "https://localhost:8080/",
          "height": 319
        },
        "id": "ncXYhvwRQr5w",
        "outputId": "18781860-5a97-4119-def3-72d7e6cca9a9"
      },
      "source": [
        "nx.draw(nx_G, pos, with_labels=True)"
      ],
      "execution_count": 36,
      "outputs": [
        {
          "output_type": "display_data",
          "data": {
            "image/png": "[encoded data removed]",
            "text/plain": [
              "<Figure size 432x288 with 1 Axes>"
            ]
          },
          "metadata": {
            "tags": []
          }
        }
      ]
    },
    {
      "cell_type": "code",
      "metadata": {
        "id": "zh2E0hrTSaXp"
      },
      "source": [
        "import torch\n",
        "import torch.nn as nn\n",
        "import torch.nn.functional as F"
      ],
      "execution_count": 39,
      "outputs": []
    },
    {
      "cell_type": "code",
      "metadata": {
        "colab": {
          "base_uri": "https://localhost:8080/"
        },
        "id": "iWrwVSH5Sk9g",
        "outputId": "8f4514f3-7007-4bcc-82a6-b4ea66ec769a"
      },
      "source": [
        "embed = nn.Embedding(34, 5)  # 34 nodes with embedding dim equal to 5\n",
        "G.ndata['feat'] = embed.weight"
      ],
      "execution_count": 42,
      "outputs": [
        {
          "output_type": "execute_result",
          "data": {
            "text/plain": [
              "Parameter containing:\n",
              "tensor([[ 0.2684,  1.1483,  1.4805,  0.3588, -1.2152],\n",
              "        [ 1.2872, -0.1057, -0.6128,  0.1582, -0.6055],\n",
              "        [-0.1842,  0.3324, -0.7890, -0.6023,  0.2304],\n",
              "        [ 1.4548, -3.0561,  0.3361,  0.7321,  1.3590],\n",
              "        [ 1.8652,  0.5010, -0.6500,  0.1829, -0.2025],\n",
              "        [-1.4285,  0.3359,  0.1831, -0.2239, -1.1845],\n",
              "        [-0.7028,  1.0517, -0.0727,  1.3053,  0.7581],\n",
              "        [ 0.0987, -0.6643, -0.0469,  0.4092, -1.0142],\n",
              "        [-0.3587,  1.6041, -1.0604, -1.3248,  0.3254],\n",
              "        [-0.3101, -0.6654,  0.9126,  1.2764, -2.2152],\n",
              "        [ 0.0385, -0.9780, -0.3465, -1.3620, -0.2846],\n",
              "        [ 0.5152, -0.7543, -2.6159,  0.3531, -0.8269],\n",
              "        [-1.1672,  0.3835, -0.5273, -0.3486,  0.1404],\n",
              "        [-1.7748, -0.1261, -0.6390,  0.7438,  0.1984],\n",
              "        [ 1.3835, -0.9859, -0.0900,  1.3520,  0.1847],\n",
              "        [-0.7896, -0.0849,  0.3300,  0.0897, -0.6924],\n",
              "        [-0.5792,  1.0855, -0.3856, -0.0231,  0.4672],\n",
              "        [-1.3046,  0.8860, -0.9827,  0.1786,  0.5048],\n",
              "        [ 0.1582,  0.3176, -1.1992,  1.6128,  1.1552],\n",
              "        [ 1.5475,  0.2452, -0.0821,  0.8260, -0.3953],\n",
              "        [ 0.8508,  1.3956, -1.1971,  0.4151,  0.3194],\n",
              "        [-0.4620,  0.6164,  0.6553,  1.1932, -0.0369],\n",
              "        [ 0.4350,  0.0965,  0.5669, -0.8014,  0.5657],\n",
              "        [-0.8549, -0.1871, -2.5968, -0.8571,  1.7462],\n",
              "        [ 0.5553, -0.4799, -0.0742, -0.3416, -1.2086],\n",
              "        [-0.2525,  2.4140, -0.5103, -0.7674,  0.2142],\n",
              "        [ 1.0235, -0.9290, -0.6588, -1.1484,  1.0447],\n",
              "        [ 0.2931, -1.1023, -0.2718, -0.7543,  2.3008],\n",
              "        [ 0.9502,  2.1543,  1.6259, -0.8164, -0.3309],\n",
              "        [ 0.5300, -1.4140,  0.9003, -0.5573, -0.4745],\n",
              "        [-1.2744,  0.6067,  1.5747,  0.6649, -0.0070],\n",
              "        [-0.1845,  1.8481, -1.2430, -0.1982, -0.0419],\n",
              "        [ 0.5790,  0.7184,  0.8054,  0.2024, -0.8933],\n",
              "        [-1.5318, -0.9601, -0.2985,  0.4998, -0.1334]], requires_grad=True)"
            ]
          },
          "metadata": {
            "tags": []
          },
          "execution_count": 42
        }
      ]
    },
    {
      "cell_type": "code",
      "metadata": {
        "colab": {
          "base_uri": "https://localhost:8080/"
        },
        "id": "S-4s7ucrUibi",
        "outputId": "a426c4f7-8ee4-40a6-8faf-6f6ed12bd0f6"
      },
      "source": [
        "# print out node 2's input feature\n",
        "print(G.ndata['feat'][2])"
      ],
      "execution_count": 43,
      "outputs": [
        {
          "output_type": "stream",
          "text": [
            "tensor([-0.1842,  0.3324, -0.7890, -0.6023,  0.2304], grad_fn=<SelectBackward>)\n"
          ],
          "name": "stdout"
        }
      ]
    },
    {
      "cell_type": "code",
      "metadata": {
        "colab": {
          "base_uri": "https://localhost:8080/"
        },
        "id": "QItBmr9KUzOJ",
        "outputId": "b23229d9-0f01-4f77-df45-afb652b0fc7d"
      },
      "source": [
        "# print out node 10 and 11's input features\n",
        "print(G.ndata['feat'][[10, 11]])"
      ],
      "execution_count": 44,
      "outputs": [
        {
          "output_type": "stream",
          "text": [
            "tensor([[ 0.0385, -0.9780, -0.3465, -1.3620, -0.2846],\n",
            "        [ 0.5152, -0.7543, -2.6159,  0.3531, -0.8269]],\n",
            "       grad_fn=<IndexBackward>)\n"
          ],
          "name": "stdout"
        }
      ]
    },
    {
      "cell_type": "code",
      "metadata": {
        "id": "mwEUruTKU0iJ"
      },
      "source": [
        "from dgl.nn.pytorch import GraphConv"
      ],
      "execution_count": 45,
      "outputs": []
    },
    {
      "cell_type": "code",
      "metadata": {
        "colab": {
          "base_uri": "https://localhost:8080/"
        },
        "id": "EhVbxeL6VTZp",
        "outputId": "42fe0a1c-e878-4fe1-96fb-033b65c5265a"
      },
      "source": [
        "class GCN(nn.Module):\n",
        "    def __init__(self, in_feats, hidden_size, num_classes):\n",
        "        super(GCN, self).__init__()\n",
        "        self.conv1 = GraphConv(in_feats, hidden_size)\n",
        "        self.conv2 = GraphConv(hidden_size, num_classes)\n",
        "\n",
        "    def forward(self, g, inputs):\n",
        "        h = self.conv1(g, inputs)\n",
        "        h = torch.relu(h)\n",
        "        h = self.conv2(g, h)\n",
        "        return h\n",
        "\n",
        "# The first layer transforms input features of size of 5 to a hidden size of 5.\n",
        "# The second layer transforms the hidden layer and produces output features of\n",
        "# size 2, corresponding to the two groups of the karate club.\n",
        "net = GCN(5, 5, 2)\n",
        "net"
      ],
      "execution_count": 47,
      "outputs": [
        {
          "output_type": "execute_result",
          "data": {
            "text/plain": [
              "GCN(\n",
              "  (conv1): GraphConv(in=5, out=5, normalization=both, activation=None)\n",
              "  (conv2): GraphConv(in=5, out=2, normalization=both, activation=None)\n",
              ")"
            ]
          },
          "metadata": {
            "tags": []
          },
          "execution_count": 47
        }
      ]
    },
    {
      "cell_type": "code",
      "metadata": {
        "id": "rrA9Mcr9XPhp"
      },
      "source": [
        "inputs = embed.weight\n",
        "labeled_nodes = torch.tensor([0, 33])  # only the instructor and the president nodes are labeled\n",
        "labels = torch.tensor([0, 1])  # their labels are different"
      ],
      "execution_count": 50,
      "outputs": []
    },
    {
      "cell_type": "code",
      "metadata": {
        "id": "JQq2i2FGXcq5"
      },
      "source": [
        "import itertools"
      ],
      "execution_count": 51,
      "outputs": []
    },
    {
      "cell_type": "code",
      "metadata": {
        "colab": {
          "base_uri": "https://localhost:8080/"
        },
        "id": "0YcdeSjaXgSh",
        "outputId": "389bc893-fe21-478e-f0f4-c0da8833e00a"
      },
      "source": [
        "optimizer = torch.optim.Adam(itertools.chain(net.parameters(), embed.parameters()), lr=0.01)\n",
        "all_logits = []\n",
        "for epoch in range(50):\n",
        "    logits = net(G, inputs)\n",
        "    # we save the logits for visualization later\n",
        "    all_logits.append(logits.detach())\n",
        "    logp = F.log_softmax(logits, 1)\n",
        "    # we only compute loss for labeled nodes\n",
        "    loss = F.nll_loss(logp[labeled_nodes], labels)\n",
        "\n",
        "    optimizer.zero_grad()\n",
        "    loss.backward()\n",
        "    optimizer.step()\n",
        "\n",
        "    print('Epoch %d | Loss: %.4f' % (epoch, loss.item()))"
      ],
      "execution_count": 55,
      "outputs": [
        {
          "output_type": "stream",
          "text": [
            "Epoch 0 | Loss: 0.0948\n",
            "Epoch 1 | Loss: 0.0849\n",
            "Epoch 2 | Loss: 0.0757\n",
            "Epoch 3 | Loss: 0.0673\n",
            "Epoch 4 | Loss: 0.0597\n",
            "Epoch 5 | Loss: 0.0528\n",
            "Epoch 6 | Loss: 0.0466\n",
            "Epoch 7 | Loss: 0.0411\n",
            "Epoch 8 | Loss: 0.0362\n",
            "Epoch 9 | Loss: 0.0318\n",
            "Epoch 10 | Loss: 0.0280\n",
            "Epoch 11 | Loss: 0.0245\n",
            "Epoch 12 | Loss: 0.0215\n",
            "Epoch 13 | Loss: 0.0189\n",
            "Epoch 14 | Loss: 0.0166\n",
            "Epoch 15 | Loss: 0.0146\n",
            "Epoch 16 | Loss: 0.0129\n",
            "Epoch 17 | Loss: 0.0114\n",
            "Epoch 18 | Loss: 0.0101\n",
            "Epoch 19 | Loss: 0.0089\n",
            "Epoch 20 | Loss: 0.0080\n",
            "Epoch 21 | Loss: 0.0071\n",
            "Epoch 22 | Loss: 0.0064\n",
            "Epoch 23 | Loss: 0.0057\n",
            "Epoch 24 | Loss: 0.0052\n",
            "Epoch 25 | Loss: 0.0047\n",
            "Epoch 26 | Loss: 0.0043\n",
            "Epoch 27 | Loss: 0.0039\n",
            "Epoch 28 | Loss: 0.0036\n",
            "Epoch 29 | Loss: 0.0033\n",
            "Epoch 30 | Loss: 0.0031\n",
            "Epoch 31 | Loss: 0.0028\n",
            "Epoch 32 | Loss: 0.0026\n",
            "Epoch 33 | Loss: 0.0025\n",
            "Epoch 34 | Loss: 0.0023\n",
            "Epoch 35 | Loss: 0.0022\n",
            "Epoch 36 | Loss: 0.0020\n",
            "Epoch 37 | Loss: 0.0019\n",
            "Epoch 38 | Loss: 0.0018\n",
            "Epoch 39 | Loss: 0.0017\n",
            "Epoch 40 | Loss: 0.0016\n",
            "Epoch 41 | Loss: 0.0015\n",
            "Epoch 42 | Loss: 0.0015\n",
            "Epoch 43 | Loss: 0.0014\n",
            "Epoch 44 | Loss: 0.0014\n",
            "Epoch 45 | Loss: 0.0013\n",
            "Epoch 46 | Loss: 0.0012\n",
            "Epoch 47 | Loss: 0.0012\n",
            "Epoch 48 | Loss: 0.0012\n",
            "Epoch 49 | Loss: 0.0011\n"
          ],
          "name": "stdout"
        }
      ]
    },
    {
      "cell_type": "code",
      "metadata": {
        "colab": {
          "base_uri": "https://localhost:8080/",
          "height": 531
        },
        "id": "iC0gQJhhYKMh",
        "outputId": "bca323c7-eb28-4a94-c01e-dde133310363"
      },
      "source": [
        "import matplotlib.animation as animation\n",
        "import matplotlib.pyplot as plt\n",
        "\n",
        "def draw(i):\n",
        "    cls1color = '#00FFFF'\n",
        "    cls2color = '#FF00FF'\n",
        "    pos = {}\n",
        "    colors = []\n",
        "    for v in range(34):\n",
        "        pos[v] = all_logits[i][v].numpy()\n",
        "        cls = pos[v].argmax()\n",
        "        colors.append(cls1color if cls else cls2color)\n",
        "    ax.cla()\n",
        "    ax.axis('off')\n",
        "    ax.set_title('Epoch: %d' % i)\n",
        "    nx.draw_networkx(nx_G.to_undirected(), pos, node_color=colors,\n",
        "            with_labels=True, node_size=300, ax=ax)\n",
        "\n",
        "fig = plt.figure(dpi=150)\n",
        "fig.clf()\n",
        "ax = fig.subplots()\n",
        "draw(0)  # draw the prediction of the first epoch\n"
      ],
      "execution_count": 58,
      "outputs": [
        {
          "output_type": "display_data",
          "data": {
            "image/png": "[encoded data removed]",
            "text/plain": [
              "<Figure size 900x600 with 1 Axes>"
            ]
          },
          "metadata": {
            "tags": []
          }
        }
      ]
    },
    {
      "cell_type": "code",
      "metadata": {
        "colab": {
          "base_uri": "https://localhost:8080/",
          "height": 204
        },
        "id": "sKfEM4vjZQ3T",
        "outputId": "18b788cc-b55d-491d-a7e6-f0a35b63a747"
      },
      "source": [
        "import urllib.request\n",
        "import pandas as pd\n",
        "\n",
        "urllib.request.urlretrieve(\n",
        "    'https://data.dgl.ai/tutorial/dataset/members.csv', './members.csv')\n",
        "urllib.request.urlretrieve(\n",
        "    'https://data.dgl.ai/tutorial/dataset/interactions.csv', './interactions.csv')\n",
        "\n",
        "members = pd.read_csv('./members.csv')\n",
        "interactions = pd.read_csv('./interactions.csv')\n",
        "\n",
        "members.head()\n",
        "\n",
        "interactions.head()"
      ],
      "execution_count": 65,
      "outputs": [
        {
          "output_type": "execute_result",
          "data": {
            "text/html": [
              "<div>\n",
              "<style scoped>\n",
              "    .dataframe tbody tr th:only-of-type {\n",
              "        vertical-align: middle;\n",
              "    }\n",
              "\n",
              "    .dataframe tbody tr th {\n",
              "        vertical-align: top;\n",
              "    }\n",
              "\n",
              "    .dataframe thead th {\n",
              "        text-align: right;\n",
              "    }\n",
              "</style>\n",
              "<table border=\"1\" class=\"dataframe\">\n",
              "  <thead>\n",
              "    <tr style=\"text-align: right;\">\n",
              "      <th></th>\n",
              "      <th>Src</th>\n",
              "      <th>Dst</th>\n",
              "      <th>Weight</th>\n",
              "    </tr>\n",
              "  </thead>\n",
              "  <tbody>\n",
              "    <tr>\n",
              "      <th>0</th>\n",
              "      <td>0</td>\n",
              "      <td>1</td>\n",
              "      <td>0.043591</td>\n",
              "    </tr>\n",
              "    <tr>\n",
              "      <th>1</th>\n",
              "      <td>0</td>\n",
              "      <td>2</td>\n",
              "      <td>0.282119</td>\n",
              "    </tr>\n",
              "    <tr>\n",
              "      <th>2</th>\n",
              "      <td>0</td>\n",
              "      <td>3</td>\n",
              "      <td>0.370293</td>\n",
              "    </tr>\n",
              "    <tr>\n",
              "      <th>3</th>\n",
              "      <td>0</td>\n",
              "      <td>4</td>\n",
              "      <td>0.730570</td>\n",
              "    </tr>\n",
              "    <tr>\n",
              "      <th>4</th>\n",
              "      <td>0</td>\n",
              "      <td>5</td>\n",
              "      <td>0.821187</td>\n",
              "    </tr>\n",
              "  </tbody>\n",
              "</table>\n",
              "</div>"
            ],
            "text/plain": [
              "   Src  Dst    Weight\n",
              "0    0    1  0.043591\n",
              "1    0    2  0.282119\n",
              "2    0    3  0.370293\n",
              "3    0    4  0.730570\n",
              "4    0    5  0.821187"
            ]
          },
          "metadata": {
            "tags": []
          },
          "execution_count": 65
        }
      ]
    },
    {
      "cell_type": "code",
      "metadata": {
        "colab": {
          "base_uri": "https://localhost:8080/",
          "height": 319
        },
        "id": "3UIEXmNQgVdr",
        "outputId": "b7f04c50-16ec-4fee-bee7-40d0314d6d8f"
      },
      "source": [
        "import networkx as nx\n",
        "g = dgl.graph([(0, 2), (0, 3), (1, 2)])\n",
        "nx_G = g.to_networkx().to_undirected()\n",
        "nx.draw(nx_G, with_labels = True)"
      ],
      "execution_count": 67,
      "outputs": [
        {
          "output_type": "display_data",
          "data": {
            "image/png": "[encoded data removed]",
            "text/plain": [
              "<Figure size 432x288 with 1 Axes>"
            ]
          },
          "metadata": {
            "tags": []
          }
        }
      ]
    },
    {
      "cell_type": "code",
      "metadata": {
        "colab": {
          "base_uri": "https://localhost:8080/",
          "height": 319
        },
        "id": "vZO-IdoSgjir",
        "outputId": "39067a74-31c9-494d-9fad-f43ac69f0b31"
      },
      "source": [
        "u = [0, 0, 1]\n",
        "v = [2, 3, 2]\n",
        "g = dgl.graph((u, v))\n",
        "nx_G = g.to_networkx().to_undirected()\n",
        "nx.draw(nx_G, with_labels = True)"
      ],
      "execution_count": 68,
      "outputs": [
        {
          "output_type": "display_data",
          "data": {
            "image/png": "[encoded data removed]",
            "text/plain": [
              "<Figure size 432x288 with 1 Axes>"
            ]
          },
          "metadata": {
            "tags": []
          }
        }
      ]
    },
    {
      "cell_type": "code",
      "metadata": {
        "colab": {
          "base_uri": "https://localhost:8080/",
          "height": 319
        },
        "id": "XQMy7JSvgu-6",
        "outputId": "a11a5740-c19f-4733-9bba-8fca7df9ca6e"
      },
      "source": [
        "u = torch.tensor([0, 0, 1])\n",
        "v = torch.tensor([2, 3, 2])\n",
        "g = dgl.graph((u, v))\n",
        "nx_G = g.to_networkx().to_undirected()\n",
        "nx.draw(nx_G, with_labels = True)"
      ],
      "execution_count": 70,
      "outputs": [
        {
          "output_type": "display_data",
          "data": {
            "image/png": "[encoded data removed]",
            "text/plain": [
              "<Figure size 432x288 with 1 Axes>"
            ]
          },
          "metadata": {
            "tags": []
          }
        }
      ]
    }
  ]
}