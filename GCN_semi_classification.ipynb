{
  "nbformat": 4,
  "nbformat_minor": 0,
  "metadata": {
    "colab": {
      "name": "GCN_semi_classification.ipynb",
      "provenance": [],
      "authorship_tag": "ABX9TyNml1hRaLxUSBeHeWlIe9Ww",
      "include_colab_link": true
    },
    "kernelspec": {
      "name": "python3",
      "display_name": "Python 3"
    },
    "language_info": {
      "name": "python"
    }
  },
  "cells": [
    {
      "cell_type": "markdown",
      "metadata": {
        "id": "view-in-github",
        "colab_type": "text"
      },
      "source": [
        "<a href=\"https://colab.research.google.com/github/SANGDONKIM/pytorch_d2l/blob/main/GCN_semi_classification.ipynb\" target=\"_parent\"><img src=\"https://colab.research.google.com/assets/colab-badge.svg\" alt=\"Open In Colab\"/></a>"
      ]
    },
    {
      "cell_type": "code",
      "metadata": {
        "id": "JjliLDy83hQV"
      },
      "source": [
        "import torch\n",
        "import torch.nn.functional as F\n",
        "import networkx as nx\n",
        "import numpy as np\n",
        "import matplotlib.pyplot as plt\n",
        "from scipy.linalg import fractional_matrix_power\n",
        "import warnings\n",
        "warnings.filterwarnings(\"ignore\", category=UserWarning)"
      ],
      "execution_count": null,
      "outputs": []
    },
    {
      "cell_type": "code",
      "metadata": {
        "colab": {
          "base_uri": "https://localhost:8080/"
        },
        "id": "iaqb7lup4p8f",
        "outputId": "874e5bdf-9a7a-4a28-e35d-a48871468b44"
      },
      "source": [
        "!pip install torch-scatter==latest+cu101 torch-sparse==latest+cu101 -f https://s3.eu-central-1.amazonaws.com/pytorch-geometric.com/whl/torch-1.4.0.html\n",
        " "
      ],
      "execution_count": null,
      "outputs": [
        {
          "output_type": "stream",
          "text": [
            "Looking in links: https://s3.eu-central-1.amazonaws.com/pytorch-geometric.com/whl/torch-1.4.0.html\n",
            "Collecting torch-scatter==latest+cu101\n",
            "  Using cached https://s3.eu-central-1.amazonaws.com/pytorch-geometric.com/whl/torch-1.4.0/torch_scatter-latest%2Bcu101-cp37-cp37m-linux_x86_64.whl\n",
            "Collecting torch-sparse==latest+cu101\n",
            "  Using cached https://s3.eu-central-1.amazonaws.com/pytorch-geometric.com/whl/torch-1.4.0/torch_sparse-latest%2Bcu101-cp37-cp37m-linux_x86_64.whl\n",
            "Requirement already satisfied: scipy in /usr/local/lib/python3.7/dist-packages (from torch-sparse==latest+cu101) (1.4.1)\n",
            "Requirement already satisfied: numpy>=1.13.3 in /usr/local/lib/python3.7/dist-packages (from scipy->torch-sparse==latest+cu101) (1.19.5)\n",
            "Installing collected packages: torch-scatter, torch-sparse\n",
            "  Found existing installation: torch-scatter 2.0.4\n",
            "    Uninstalling torch-scatter-2.0.4:\n",
            "      Successfully uninstalled torch-scatter-2.0.4\n",
            "  Found existing installation: torch-sparse 0.6.1\n",
            "    Uninstalling torch-sparse-0.6.1:\n",
            "      Successfully uninstalled torch-sparse-0.6.1\n",
            "Successfully installed torch-scatter-2.0.4 torch-sparse-0.6.1\n"
          ],
          "name": "stdout"
        }
      ]
    },
    {
      "cell_type": "code",
      "metadata": {
        "colab": {
          "base_uri": "https://localhost:8080/"
        },
        "id": "WWP7lFsZ3swo",
        "outputId": "2bc09bff-ebc1-453f-c986-c8a1f9eff0fb"
      },
      "source": [
        "G = nx.Graph(name='G')\n",
        "G\n"
      ],
      "execution_count": null,
      "outputs": [
        {
          "output_type": "execute_result",
          "data": {
            "text/plain": [
              "<networkx.classes.graph.Graph at 0x7fc0c4d39110>"
            ]
          },
          "metadata": {
            "tags": []
          },
          "execution_count": 12
        }
      ]
    },
    {
      "cell_type": "code",
      "metadata": {
        "id": "tySU72AG8VQV"
      },
      "source": [
        "#Create nodes\n",
        "#In this example, the graph will consist of 6 nodes.\n",
        "#Each node is assigned node feature which corresponds to the node name\n",
        "for i in range(6):\n",
        "    G.add_node(i, name=i)"
      ],
      "execution_count": null,
      "outputs": []
    },
    {
      "cell_type": "code",
      "metadata": {
        "id": "T_SUJJtw91gG"
      },
      "source": [
        "#Define the edges and the edges to the graph\n",
        "edges = [(0,1),(0,2),(1,2),(0,3),(3,4),(3,5),(4,5)]\n",
        "G.add_edges_from(edges)"
      ],
      "execution_count": null,
      "outputs": []
    },
    {
      "cell_type": "code",
      "metadata": {
        "colab": {
          "base_uri": "https://localhost:8080/"
        },
        "id": "-GKHoETo95Ge",
        "outputId": "e1b22775-0a9b-4bb2-f0e4-2b4feac12697"
      },
      "source": [
        "#See graph info\n",
        "print('Graph Info:\\n', nx.info(G))"
      ],
      "execution_count": null,
      "outputs": [
        {
          "output_type": "stream",
          "text": [
            "Graph Info:\n",
            " Name: G\n",
            "Type: Graph\n",
            "Number of nodes: 6\n",
            "Number of edges: 7\n",
            "Average degree:   2.3333\n"
          ],
          "name": "stdout"
        }
      ]
    },
    {
      "cell_type": "code",
      "metadata": {
        "colab": {
          "base_uri": "https://localhost:8080/"
        },
        "id": "y738o3Y1-D5e",
        "outputId": "7dfa38ae-8b8b-4997-fbb7-b40df9526f99"
      },
      "source": [
        "#Inspect the node features\n",
        "print('\\nGraph Nodes: ', G.nodes.data())"
      ],
      "execution_count": null,
      "outputs": [
        {
          "output_type": "stream",
          "text": [
            "\n",
            "Graph Nodes:  [(0, {'name': 0}), (1, {'name': 1}), (2, {'name': 2}), (3, {'name': 3}), (4, {'name': 4}), (5, {'name': 5})]\n"
          ],
          "name": "stdout"
        }
      ]
    },
    {
      "cell_type": "code",
      "metadata": {
        "colab": {
          "base_uri": "https://localhost:8080/",
          "height": 319
        },
        "id": "ohC99d_8-Igm",
        "outputId": "608412fe-b458-4327-e7da-06b7d1472860"
      },
      "source": [
        "#Plot the graph\n",
        "nx.draw(G, with_labels=True, font_weight='bold')\n",
        "plt.show()"
      ],
      "execution_count": null,
      "outputs": [
        {
          "output_type": "display_data",
          "data": {
            "image/png": "[encoded data removed]",
            "text/plain": [
              "<Figure size 432x288 with 1 Axes>"
            ]
          },
          "metadata": {
            "tags": []
          }
        }
      ]
    },
    {
      "cell_type": "code",
      "metadata": {
        "colab": {
          "base_uri": "https://localhost:8080/"
        },
        "id": "awU5rL1c-djW",
        "outputId": "e991a588-2286-4c09-b954-c3ef9676da65"
      },
      "source": [
        "#Adjacency Matrix (A) \n",
        "nx.attr_matrix(G, node_attr='name')[0] # adjacency matrix만 출력. matrix type \n",
        "A = np.array(nx.attr_matrix(G, node_attr='name')[0]) # Numpy array로 변경 \n",
        "A"
      ],
      "execution_count": null,
      "outputs": [
        {
          "output_type": "execute_result",
          "data": {
            "text/plain": [
              "array([[0., 1., 1., 1., 0., 0.],\n",
              "       [1., 0., 1., 0., 0., 0.],\n",
              "       [1., 1., 0., 0., 0., 0.],\n",
              "       [1., 0., 0., 0., 1., 1.],\n",
              "       [0., 0., 0., 1., 0., 1.],\n",
              "       [0., 0., 0., 1., 1., 0.]])"
            ]
          },
          "metadata": {
            "tags": []
          },
          "execution_count": 24
        }
      ]
    },
    {
      "cell_type": "code",
      "metadata": {
        "colab": {
          "base_uri": "https://localhost:8080/"
        },
        "id": "i1T2U1cA_AU-",
        "outputId": "cc878d5d-58e0-40b8-be10-682e23f253a2"
      },
      "source": [
        "nx.attr_matrix(G, node_attr='name')[1] # node feature [0, 1, 2, 3, 4, 5]\n",
        "X = np.array(nx.attr_matrix(G, node_attr='name')[1])\n",
        "X.shape # (6, )"
      ],
      "execution_count": null,
      "outputs": [
        {
          "output_type": "execute_result",
          "data": {
            "text/plain": [
              "(6,)"
            ]
          },
          "metadata": {
            "tags": []
          },
          "execution_count": 34
        }
      ]
    },
    {
      "cell_type": "code",
      "metadata": {
        "colab": {
          "base_uri": "https://localhost:8080/"
        },
        "id": "BRLkT13f_0_Y",
        "outputId": "c170a11a-60b3-4cbd-c4ab-e54589934c88"
      },
      "source": [
        "np.expand_dims(X,axis=1).shape # (6, 1)\n",
        "np.expand_dims(X,axis=0).shape # (1, 6)"
      ],
      "execution_count": null,
      "outputs": [
        {
          "output_type": "execute_result",
          "data": {
            "text/plain": [
              "(1, 6)"
            ]
          },
          "metadata": {
            "tags": []
          },
          "execution_count": 37
        }
      ]
    },
    {
      "cell_type": "code",
      "metadata": {
        "id": "PLDcu1Y_BZcG"
      },
      "source": [
        "X = np.expand_dims(X,axis=1)"
      ],
      "execution_count": null,
      "outputs": []
    },
    {
      "cell_type": "code",
      "metadata": {
        "colab": {
          "base_uri": "https://localhost:8080/"
        },
        "id": "ABCdgbUVCpTv",
        "outputId": "2ef680ba-452c-4add-a250-74a4df54fbba"
      },
      "source": [
        "print('Shape of A: ', A.shape)\n",
        "print('\\nShape of X: ', X.shape)\n",
        "print('\\nAdjacency Matrix (A):\\n', A)\n",
        "print('\\nNode Features Matrix (X):\\n', X)"
      ],
      "execution_count": null,
      "outputs": [
        {
          "output_type": "stream",
          "text": [
            "Shape of A:  (6, 6)\n"
          ],
          "name": "stdout"
        }
      ]
    },
    {
      "cell_type": "code",
      "metadata": {
        "colab": {
          "base_uri": "https://localhost:8080/"
        },
        "id": "9iZZZ8ORC4ZG",
        "outputId": "a83ea353-c365-4e02-defb-3d136d06d855"
      },
      "source": [
        "#Dot product Adjacency Matrix (A) and Node Features (X)\n",
        "AX = np.dot(A,X)\n",
        "print(\"Dot product of A and X (AX):\\n\", AX)"
      ],
      "execution_count": null,
      "outputs": [
        {
          "output_type": "stream",
          "text": [
            "Dot product of A and X (AX):\n",
            " [[6.]\n",
            " [2.]\n",
            " [1.]\n",
            " [9.]\n",
            " [8.]\n",
            " [7.]]\n"
          ],
          "name": "stdout"
        }
      ]
    },
    {
      "cell_type": "code",
      "metadata": {
        "colab": {
          "base_uri": "https://localhost:8080/"
        },
        "id": "q_c6E9ppEAje",
        "outputId": "f6566f1d-1998-4cf8-baa0-7b979d86af20"
      },
      "source": [
        "G_self_loops = G.copy()\n",
        "\n",
        "self_loops = []\n",
        "for i in range(G.number_of_nodes()): # G.number_of_nodes() : 노드의 수 = 6\n",
        "    self_loops.append((i,i))\n",
        "\n",
        "self_loops"
      ],
      "execution_count": null,
      "outputs": [
        {
          "output_type": "execute_result",
          "data": {
            "text/plain": [
              "[(0, 0), (1, 1), (2, 2), (3, 3), (4, 4), (5, 5)]"
            ]
          },
          "metadata": {
            "tags": []
          },
          "execution_count": 50
        }
      ]
    },
    {
      "cell_type": "code",
      "metadata": {
        "colab": {
          "base_uri": "https://localhost:8080/"
        },
        "id": "kVwhKZWVF06l",
        "outputId": "58b2b05b-ef96-4c1d-a433-a206c2a4853c"
      },
      "source": [
        "G_self_loops.add_edges_from(self_loops)\n",
        "#Check the edges of G_self_loops after adding the self loops\n",
        "print('Edges of G with self-loops:\\n', G_self_loops.edges) # (0,1),(0,2),(1,2),(0,3),(3,4),(3,5),(4,5) 여기서 self loop 추가 "
      ],
      "execution_count": null,
      "outputs": [
        {
          "output_type": "stream",
          "text": [
            "Edges of G with self-loops:\n",
            " [(0, 1), (0, 2), (0, 3), (0, 0), (1, 2), (1, 1), (2, 2), (3, 4), (3, 5), (3, 3), (4, 5), (4, 4), (5, 5)]\n"
          ],
          "name": "stdout"
        }
      ]
    },
    {
      "cell_type": "code",
      "metadata": {
        "colab": {
          "base_uri": "https://localhost:8080/"
        },
        "id": "rWk4zaz9E8t9",
        "outputId": "36738498-a60f-4c3c-a892-6dd959676a87"
      },
      "source": [
        "A_hat = np.array(nx.attr_matrix(G_self_loops, node_attr='name')[0])\n",
        "print('Adjacency Matrix of added self-loops G (A_hat):\\n', A_hat)"
      ],
      "execution_count": null,
      "outputs": [
        {
          "output_type": "stream",
          "text": [
            "Adjacency Matrix of added self-loops G (A_hat):\n",
            " [[1. 1. 1. 1. 0. 0.]\n",
            " [1. 1. 1. 0. 0. 0.]\n",
            " [1. 1. 1. 0. 0. 0.]\n",
            " [1. 0. 0. 1. 1. 1.]\n",
            " [0. 0. 0. 1. 1. 1.]\n",
            " [0. 0. 0. 1. 1. 1.]]\n"
          ],
          "name": "stdout"
        }
      ]
    },
    {
      "cell_type": "code",
      "metadata": {
        "colab": {
          "base_uri": "https://localhost:8080/"
        },
        "id": "EcEjEJ2-HZjW",
        "outputId": "3365b9e1-0389-4dc2-e55a-e92da22a403c"
      },
      "source": [
        "AX = np.dot(A_hat, X)\n",
        "print(AX.shape)\n",
        "print('AX:\\n', AX)"
      ],
      "execution_count": null,
      "outputs": [
        {
          "output_type": "stream",
          "text": [
            "(6, 1)\n",
            "AX:\n",
            " [[ 6.]\n",
            " [ 3.]\n",
            " [ 3.]\n",
            " [12.]\n",
            " [12.]\n",
            " [12.]]\n"
          ],
          "name": "stdout"
        }
      ]
    },
    {
      "cell_type": "code",
      "metadata": {
        "colab": {
          "base_uri": "https://localhost:8080/"
        },
        "id": "3kC4TIIBHgc9",
        "outputId": "2a6ea055-c6a8-4c52-99e8-56d8ae9b5f95"
      },
      "source": [
        "#Get the Degree Matrix of the added self-loops graph\n",
        "Deg_Mat = G_self_loops.degree()\n",
        "print('Degree Matrix of added self-loops G (D): ', Deg_Mat)"
      ],
      "execution_count": null,
      "outputs": [
        {
          "output_type": "stream",
          "text": [
            "Degree Matrix of added self-loops G (D):  [(0, 5), (1, 4), (2, 4), (3, 5), (4, 4), (5, 4)]\n"
          ],
          "name": "stdout"
        }
      ]
    },
    {
      "cell_type": "code",
      "metadata": {
        "colab": {
          "base_uri": "https://localhost:8080/"
        },
        "id": "gKSjqZzdJ5RM",
        "outputId": "55ac7055-6984-489a-8391-8bf0dacacbaa"
      },
      "source": [
        "D = np.diag([deg for (n,deg) in list(Deg_Mat)])\n",
        "print('Degree Matrix of added self-loops G as numpy array (D):\\n', D)\n",
        "D.shape # (6, 6)"
      ],
      "execution_count": null,
      "outputs": [
        {
          "output_type": "execute_result",
          "data": {
            "text/plain": [
              "(6, 6)"
            ]
          },
          "metadata": {
            "tags": []
          },
          "execution_count": 74
        }
      ]
    },
    {
      "cell_type": "code",
      "metadata": {
        "colab": {
          "base_uri": "https://localhost:8080/"
        },
        "id": "fW_YWETJKuGl",
        "outputId": "019d0177-f820-4bfc-ee78-7fc3b9cd3034"
      },
      "source": [
        "for (n,deg) in list(Deg_Mat):\n",
        "  print(deg)\n",
        "\n",
        "np.diag([5, 4, 4, 5, 4, 4])\n",
        "np.diag([5, 4, 4, 5, 4, 4]).shape # (6, 6)\n",
        "  "
      ],
      "execution_count": null,
      "outputs": [
        {
          "output_type": "stream",
          "text": [
            "5\n",
            "4\n",
            "4\n",
            "5\n",
            "4\n",
            "4\n"
          ],
          "name": "stdout"
        },
        {
          "output_type": "execute_result",
          "data": {
            "text/plain": [
              "(6, 6)"
            ]
          },
          "metadata": {
            "tags": []
          },
          "execution_count": 76
        }
      ]
    },
    {
      "cell_type": "code",
      "metadata": {
        "colab": {
          "base_uri": "https://localhost:8080/"
        },
        "id": "ud710RunMTUs",
        "outputId": "d6c44d0f-ea0a-4e52-92af-a63615d0f83c"
      },
      "source": [
        "#Find the inverse of Degree Matrix (D)\n",
        "D_inv = np.linalg.inv(D) # 역행렬 계산 \n",
        "print('Inverse of D:\\n', D_inv)"
      ],
      "execution_count": null,
      "outputs": [
        {
          "output_type": "stream",
          "text": [
            "Inverse of D:\n",
            " [[0.2  0.   0.   0.   0.   0.  ]\n",
            " [0.   0.25 0.   0.   0.   0.  ]\n",
            " [0.   0.   0.25 0.   0.   0.  ]\n",
            " [0.   0.   0.   0.2  0.   0.  ]\n",
            " [0.   0.   0.   0.   0.25 0.  ]\n",
            " [0.   0.   0.   0.   0.   0.25]]\n"
          ],
          "name": "stdout"
        }
      ]
    },
    {
      "cell_type": "code",
      "metadata": {
        "colab": {
          "base_uri": "https://localhost:8080/"
        },
        "id": "00QmgtDLNOR8",
        "outputId": "e0f0bb44-af25-4439-9019-17414c1d3334"
      },
      "source": [
        "#Dot product of D and AX for normalization\n",
        "DAX = np.dot(D_inv,AX)\n",
        "print('DAX:\\n', DAX)"
      ],
      "execution_count": null,
      "outputs": [
        {
          "output_type": "stream",
          "text": [
            "DAX:\n",
            " [[1.2 ]\n",
            " [0.75]\n",
            " [0.75]\n",
            " [2.4 ]\n",
            " [3.  ]\n",
            " [3.  ]]\n"
          ],
          "name": "stdout"
        }
      ]
    },
    {
      "cell_type": "code",
      "metadata": {
        "colab": {
          "base_uri": "https://localhost:8080/"
        },
        "id": "CnzhofgMOODl",
        "outputId": "92d6ee81-2138-450f-ed99-4a5a77ba50a1"
      },
      "source": [
        "#Symmetrically-normalization\n",
        "D_half_norm = fractional_matrix_power(D, -0.5) # D^-1/2 \n",
        "DADX = D_half_norm.dot(A_hat).dot(D_half_norm).dot(X)\n",
        "print('DADX:\\n', DADX)"
      ],
      "execution_count": null,
      "outputs": [
        {
          "output_type": "stream",
          "text": [
            "DADX:\n",
            " [[1.27082039]\n",
            " [0.75      ]\n",
            " [0.75      ]\n",
            " [2.61246118]\n",
            " [2.92082039]\n",
            " [2.92082039]]\n"
          ],
          "name": "stdout"
        }
      ]
    },
    {
      "cell_type": "code",
      "metadata": {
        "id": "bf93WtFKQuO8"
      },
      "source": [
        "#Initialize the weights\n",
        "np.random.seed(77777)\n",
        "n_h = 4 #number of neurons in the hidden layer\n",
        "n_y = 2 #number of neurons in the output layer\n",
        "W0 = np.random.randn(X.shape[1],n_h) * 0.01 # (1, 4) 차원 normal dist에서 random number 생성 \n",
        "W1 = np.random.randn(n_h,n_y) * 0.01 # (4, 2) \n",
        "\n"
      ],
      "execution_count": null,
      "outputs": []
    },
    {
      "cell_type": "code",
      "metadata": {
        "id": "bfh3QFMETScD"
      },
      "source": [
        "#Implement ReLu as activation function\n",
        "def relu(x):\n",
        "    return np.maximum(0,x)"
      ],
      "execution_count": null,
      "outputs": []
    },
    {
      "cell_type": "code",
      "metadata": {
        "id": "BFg9F7M7TUOs"
      },
      "source": [
        "#Build GCN layer\n",
        "#In this function, we implement numpy to simplify\n",
        "def gcn(A,H,W):\n",
        "    I = np.identity(A.shape[0]) #create Identity Matrix of A\n",
        "    A_hat = A + I #add self-loop to A\n",
        "    D = np.diag(np.sum(A_hat, axis=0)) #create Degree Matrix of A\n",
        "    D_half_norm = fractional_matrix_power(D, -0.5) #calculate D to the power of -0.5\n",
        "    eq = D_half_norm.dot(A_hat).dot(D_half_norm).dot(H).dot(W)\n",
        "    return relu(eq)"
      ],
      "execution_count": null,
      "outputs": []
    },
    {
      "cell_type": "code",
      "metadata": {
        "colab": {
          "base_uri": "https://localhost:8080/"
        },
        "id": "1QZNDb8kTp2D",
        "outputId": "8a7f6792-2cf5-4bb1-c7e8-9924465e4184"
      },
      "source": [
        "H1 = gcn(A,X,W0) # A : (6, 6), X : (6, 1), W0 : (1, 4)\n",
        "H1.shape"
      ],
      "execution_count": null,
      "outputs": [
        {
          "output_type": "execute_result",
          "data": {
            "text/plain": [
              "(6, 4)"
            ]
          },
          "metadata": {
            "tags": []
          },
          "execution_count": 97
        }
      ]
    },
    {
      "cell_type": "code",
      "metadata": {
        "colab": {
          "base_uri": "https://localhost:8080/"
        },
        "id": "jpObm4NkUUGr",
        "outputId": "598039c4-f64b-4d91-9078-9f340a9871fe"
      },
      "source": [
        "H2 = gcn(A,H1,W1) # A : (6, 6), X : (6, 4), W0 : (4, 2)\n",
        "H2.shape\n",
        "print('Features Representation from GCN output:\\n', H2)"
      ],
      "execution_count": null,
      "outputs": [
        {
          "output_type": "stream",
          "text": [
            "Features Representation from GCN output:\n",
            " [[0.00027758 0.        ]\n",
            " [0.00017298 0.        ]\n",
            " [0.00017298 0.        ]\n",
            " [0.00053017 0.        ]\n",
            " [0.00054097 0.        ]\n",
            " [0.00054097 0.        ]]\n"
          ],
          "name": "stdout"
        }
      ]
    },
    {
      "cell_type": "code",
      "metadata": {
        "colab": {
          "base_uri": "https://localhost:8080/",
          "height": 295
        },
        "id": "rylQ59UpU9mL",
        "outputId": "b169c206-d7ed-47a2-e0d2-ae4f6affdea8"
      },
      "source": [
        "def plot_features(H2):\n",
        "    #Plot the features representation\n",
        "    x = H2[:,0]\n",
        "    y = H2[:,1]\n",
        "\n",
        "    size = 1000\n",
        "\n",
        "    plt.scatter(x,y,size)\n",
        "    plt.xlim([np.min(x)*0.9, np.max(x)*1.1])\n",
        "    plt.ylim([-1, 1])\n",
        "    plt.xlabel('Feature Representation Dimension 0')\n",
        "    plt.ylabel('Feature Representation Dimension 1')\n",
        "    plt.title('Feature Representation')\n",
        "\n",
        "    for i,row in enumerate(H2):\n",
        "        str = \"{}\".format(i)\n",
        "        plt.annotate(str, (row[0],row[1]),fontsize=18, fontweight='bold')\n",
        "\n",
        "    plt.show()\n",
        "\n",
        "\n",
        "plot_features(H2)"
      ],
      "execution_count": null,
      "outputs": [
        {
          "output_type": "display_data",
          "data": {
            "image/png": "[encoded data removed]",
            "text/plain": [
              "<Figure size 432x288 with 1 Axes>"
            ]
          },
          "metadata": {
            "tags": [],
            "needs_background": "light"
          }
        }
      ]
    }
  ]
}